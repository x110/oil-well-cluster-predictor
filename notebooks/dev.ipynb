{
 "cells": [
  {
   "cell_type": "code",
   "execution_count": 1,
   "metadata": {},
   "outputs": [
    {
     "name": "stdout",
     "output_type": "stream",
     "text": [
      "/Users/mas/Documents/ml-projects/oil-well-cluster-predictor\n"
     ]
    }
   ],
   "source": [
    "import os\n",
    "os.chdir('../')\n",
    "!pwd"
   ]
  },
  {
   "cell_type": "code",
   "execution_count": 2,
   "metadata": {},
   "outputs": [
    {
     "name": "stdout",
     "output_type": "stream",
     "text": [
      "Train and test datasets saved to './dataset/interm/train.csv' and './dataset/interm/test.csv'\n"
     ]
    }
   ],
   "source": [
    "!python scripts/train_test_split.py config.json"
   ]
  },
  {
   "cell_type": "code",
   "execution_count": 12,
   "metadata": {},
   "outputs": [
    {
     "name": "stdout",
     "output_type": "stream",
     "text": [
      "Best parameters: Pipeline(steps=[('data_transformer', CustomDataTransformer()),\n",
      "                ('preprocessor', StandardScaler()),\n",
      "                ('clf',\n",
      "                 RandomForestClassifier(class_weight='balanced',\n",
      "                                        max_depth=10))])\n",
      "Best score : 0.2951947592514469\n",
      "Best model is saved successfully at: ./models/model_bst.pkl\n"
     ]
    }
   ],
   "source": [
    "!python scripts/run_experiment.py config.json"
   ]
  },
  {
   "cell_type": "code",
   "execution_count": 13,
   "metadata": {},
   "outputs": [
    {
     "name": "stdout",
     "output_type": "stream",
     "text": [
      "Classification report:\n",
      "              precision    recall  f1-score   support\n",
      "\n",
      "    constant       0.40      0.48      0.44        33\n",
      "       multi       0.14      0.06      0.09        16\n",
      "      normal       0.33      0.39      0.36        33\n",
      "       rapid       0.29      0.17      0.21        12\n",
      "\n",
      "    accuracy                           0.34        94\n",
      "   macro avg       0.29      0.28      0.27        94\n",
      "weighted avg       0.32      0.34      0.32        94\n",
      "\n",
      "\n",
      "Confusion Matrix:\n",
      "[[16  2 15  0]\n",
      " [ 7  1  6  2]\n",
      " [15  2 13  3]\n",
      " [ 2  2  6  2]]\n"
     ]
    }
   ],
   "source": [
    "!python scripts/evaluation.py config.json"
   ]
  },
  {
   "cell_type": "code",
   "execution_count": 14,
   "metadata": {},
   "outputs": [
    {
     "name": "stdout",
     "output_type": "stream",
     "text": [
      "['multi' 'constant']\n"
     ]
    }
   ],
   "source": [
    "!python scripts/predict.py models/model_bst.pkl new_predict_data.csv"
   ]
  }
 ],
 "metadata": {
  "kernelspec": {
   "display_name": "myenv",
   "language": "python",
   "name": "python3"
  },
  "language_info": {
   "codemirror_mode": {
    "name": "ipython",
    "version": 3
   },
   "file_extension": ".py",
   "mimetype": "text/x-python",
   "name": "python",
   "nbconvert_exporter": "python",
   "pygments_lexer": "ipython3",
   "version": "3.9.6"
  }
 },
 "nbformat": 4,
 "nbformat_minor": 2
}
