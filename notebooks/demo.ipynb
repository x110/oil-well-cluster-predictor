{
 "cells": [
  {
   "cell_type": "code",
   "execution_count": 1,
   "metadata": {},
   "outputs": [
    {
     "name": "stdout",
     "output_type": "stream",
     "text": [
      "/Users/mas/Documents/ml-projects/oil-well-cluster-predictor\n"
     ]
    }
   ],
   "source": [
    "import os\n",
    "os.chdir('../')\n",
    "!pwd"
   ]
  },
  {
   "cell_type": "code",
   "execution_count": 2,
   "metadata": {},
   "outputs": [
    {
     "name": "stdout",
     "output_type": "stream",
     "text": [
      "Train and test datasets saved to './dataset/interm/train.csv' and './dataset/interm/test.csv'\n"
     ]
    }
   ],
   "source": [
    "!python scripts/train_test_split.py config.json"
   ]
  },
  {
   "cell_type": "code",
   "execution_count": 2,
   "metadata": {},
   "outputs": [
    {
     "name": "stdout",
     "output_type": "stream",
     "text": [
      "/Users/mas/Documents/ml-projects/oil-well-cluster-predictor/myenv/lib/python3.9/site-packages/urllib3/__init__.py:35: NotOpenSSLWarning: urllib3 v2 only supports OpenSSL 1.1.1+, currently the 'ssl' module is compiled with 'LibreSSL 2.8.3'. See: https://github.com/urllib3/urllib3/issues/3020\n",
      "  warnings.warn(\n",
      "/Users/mas/Documents/ml-projects/oil-well-cluster-predictor/myenv/lib/python3.9/site-packages/urllib3/__init__.py:35: NotOpenSSLWarning: urllib3 v2 only supports OpenSSL 1.1.1+, currently the 'ssl' module is compiled with 'LibreSSL 2.8.3'. See: https://github.com/urllib3/urllib3/issues/3020\n",
      "  warnings.warn(\n",
      "\u001b[34m\u001b[1mwandb\u001b[0m: Currently logged in as: \u001b[33mmariam\u001b[0m. Use \u001b[1m`wandb login --relogin`\u001b[0m to force relogin\n",
      "\u001b[34m\u001b[1mwandb\u001b[0m: Tracking run with wandb version 0.16.4\n",
      "\u001b[34m\u001b[1mwandb\u001b[0m: Run data is saved locally in \u001b[35m\u001b[1m/Users/mas/Documents/ml-projects/oil-well-cluster-predictor/wandb/run-20240317_113841-2u1kkb5j\u001b[0m\n",
      "\u001b[34m\u001b[1mwandb\u001b[0m: Run \u001b[1m`wandb offline`\u001b[0m to turn off syncing.\n",
      "\u001b[34m\u001b[1mwandb\u001b[0m: Syncing run \u001b[33mcomic-silence-6\u001b[0m\n",
      "\u001b[34m\u001b[1mwandb\u001b[0m: ⭐️ View project at \u001b[34m\u001b[4mhttps://wandb.ai/mariam/oil-well-cluster-predictor\u001b[0m\n",
      "\u001b[34m\u001b[1mwandb\u001b[0m: 🚀 View run at \u001b[34m\u001b[4mhttps://wandb.ai/mariam/oil-well-cluster-predictor/runs/2u1kkb5j\u001b[0m\n",
      "Best parameters: Pipeline(steps=[('data_transformer', CustomDataTransformer()),\n",
      "                ('preprocessor', StandardScaler()),\n",
      "                ('clf', GradientBoostingClassifier())])\n",
      "Best score : 0.3045808796228964\n",
      "Best model is saved successfully at: ./models/model_bst.pkl\n",
      "\u001b[34m\u001b[1mwandb\u001b[0m: | 0.010 MB of 0.010 MB uploaded\n",
      "\u001b[34m\u001b[1mwandb\u001b[0m: Run history:\n",
      "\u001b[34m\u001b[1mwandb\u001b[0m: Best Score ▁\n",
      "\u001b[34m\u001b[1mwandb\u001b[0m: \n",
      "\u001b[34m\u001b[1mwandb\u001b[0m: Run summary:\n",
      "\u001b[34m\u001b[1mwandb\u001b[0m: Best Score 0.30458\n",
      "\u001b[34m\u001b[1mwandb\u001b[0m: \n",
      "\u001b[34m\u001b[1mwandb\u001b[0m: 🚀 View run \u001b[33mcomic-silence-6\u001b[0m at: \u001b[34m\u001b[4mhttps://wandb.ai/mariam/oil-well-cluster-predictor/runs/2u1kkb5j\u001b[0m\n",
      "\u001b[34m\u001b[1mwandb\u001b[0m: ️⚡ View job at \u001b[34m\u001b[4mhttps://wandb.ai/mariam/oil-well-cluster-predictor/jobs/QXJ0aWZhY3RDb2xsZWN0aW9uOjE0OTM1NjUxNg==/version_details/v0\u001b[0m\n",
      "\u001b[34m\u001b[1mwandb\u001b[0m: Synced 5 W&B file(s), 0 media file(s), 2 artifact file(s) and 0 other file(s)\n",
      "\u001b[34m\u001b[1mwandb\u001b[0m: Find logs at: \u001b[35m\u001b[1m./wandb/run-20240317_113841-2u1kkb5j/logs\u001b[0m\n"
     ]
    }
   ],
   "source": [
    "!python scripts/run_experiment.py config.json"
   ]
  },
  {
   "cell_type": "code",
   "execution_count": 13,
   "metadata": {},
   "outputs": [
    {
     "name": "stdout",
     "output_type": "stream",
     "text": [
      "Classification report:\n",
      "              precision    recall  f1-score   support\n",
      "\n",
      "    constant       0.40      0.48      0.44        33\n",
      "       multi       0.14      0.06      0.09        16\n",
      "      normal       0.33      0.39      0.36        33\n",
      "       rapid       0.29      0.17      0.21        12\n",
      "\n",
      "    accuracy                           0.34        94\n",
      "   macro avg       0.29      0.28      0.27        94\n",
      "weighted avg       0.32      0.34      0.32        94\n",
      "\n",
      "\n",
      "Confusion Matrix:\n",
      "[[16  2 15  0]\n",
      " [ 7  1  6  2]\n",
      " [15  2 13  3]\n",
      " [ 2  2  6  2]]\n"
     ]
    }
   ],
   "source": [
    "!python scripts/evaluation.py config.json"
   ]
  },
  {
   "cell_type": "code",
   "execution_count": 14,
   "metadata": {},
   "outputs": [
    {
     "name": "stdout",
     "output_type": "stream",
     "text": [
      "['multi' 'constant']\n"
     ]
    }
   ],
   "source": [
    "!python scripts/predict.py models/model_bst.pkl new_predict_data.csv"
   ]
  }
 ],
 "metadata": {
  "kernelspec": {
   "display_name": "myenv",
   "language": "python",
   "name": "python3"
  },
  "language_info": {
   "codemirror_mode": {
    "name": "ipython",
    "version": 3
   },
   "file_extension": ".py",
   "mimetype": "text/x-python",
   "name": "python",
   "nbconvert_exporter": "python",
   "pygments_lexer": "ipython3",
   "version": "3.9.6"
  }
 },
 "nbformat": 4,
 "nbformat_minor": 2
}
