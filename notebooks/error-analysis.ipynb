{
 "cells": [
  {
   "cell_type": "code",
   "execution_count": 1,
   "metadata": {},
   "outputs": [],
   "source": [
    "import sys\n",
    "sys.path.append('./src/')\n",
    "import os\n",
    "os.chdir(\"../\")"
   ]
  },
  {
   "cell_type": "code",
   "execution_count": 2,
   "metadata": {},
   "outputs": [],
   "source": [
    "import json\n",
    "import joblib\n",
    "import pandas as pd\n",
    "import matplotlib.pyplot as plt\n",
    "import numpy as np\n",
    "from sklearn.metrics import confusion_matrix, ConfusionMatrixDisplay\n",
    "from preprocessing import encode_labels\n"
   ]
  },
  {
   "cell_type": "code",
   "execution_count": 3,
   "metadata": {},
   "outputs": [],
   "source": [
    "%matplotlib inline\n",
    "import matplotlib as mpl\n",
    "import matplotlib.pyplot as plt\n",
    "mpl.rc('axes', labelsize=14)\n",
    "mpl.rc('xtick', labelsize=12)\n",
    "mpl.rc('ytick', labelsize=12)"
   ]
  },
  {
   "cell_type": "code",
   "execution_count": 4,
   "metadata": {},
   "outputs": [],
   "source": [
    "config_file = \"config.json\"\n",
    "with open(config_file, 'r') as f:\n",
    "    config = json.load(f)"
   ]
  },
  {
   "cell_type": "code",
   "execution_count": 5,
   "metadata": {},
   "outputs": [
    {
     "data": {
      "text/plain": [
       "{'constant': 0, 'multi': 1, 'normal': 2, 'rapid': 3}"
      ]
     },
     "execution_count": 5,
     "metadata": {},
     "output_type": "execute_result"
    }
   ],
   "source": [
    "model_path = \"./models/model_bst.pkl\"\n",
    "model, class_names = joblib.load(model_path)\n",
    "class_map= {class_names[i]:i for i in range(len(class_names))}\n",
    "class_map\n"
   ]
  },
  {
   "cell_type": "code",
   "execution_count": 6,
   "metadata": {},
   "outputs": [
    {
     "data": {
      "text/plain": [
       "array([0, 2, 2, 3, 0, 1, 0, 0, 2, 2, 0, 2, 0, 0, 2, 2, 2, 0, 2, 2, 2, 0,\n",
       "       2, 2, 2, 0, 0, 2, 3, 0, 2, 0, 2, 0, 2, 2, 0, 0, 0, 0, 0, 0, 2, 0,\n",
       "       1, 2, 0, 2, 0, 0, 1, 0, 1, 2, 0, 0, 2, 0, 0, 2, 2, 2, 2, 2, 2, 2,\n",
       "       2, 0, 2, 2, 0, 2, 2, 2, 2, 2, 2, 0, 2, 0, 0, 1, 2, 0, 2, 0, 0, 1,\n",
       "       2])"
      ]
     },
     "execution_count": 6,
     "metadata": {},
     "output_type": "execute_result"
    }
   ],
   "source": [
    "test_data_path = config['processed_test_data_path']\n",
    "df_test = pd.read_csv(test_data_path)\n",
    "y0_test = df_test['cluster']\n",
    "X_test = df_test.drop(columns={'cluster','well'})\n",
    "y_test, _ = encode_labels(y0_test)\n",
    "y_test_pred = model.predict(X_test)\n",
    "y_test_pred"
   ]
  },
  {
   "cell_type": "code",
   "execution_count": 7,
   "metadata": {},
   "outputs": [
    {
     "data": {
      "text/plain": [
       "array([[0.375     , 0.03125   , 0.59375   , 0.        ],\n",
       "       [0.375     , 0.125     , 0.5       , 0.        ],\n",
       "       [0.46666667, 0.1       , 0.43333333, 0.        ],\n",
       "       [0.45454545, 0.        , 0.36363636, 0.18181818]])"
      ]
     },
     "execution_count": 7,
     "metadata": {},
     "output_type": "execute_result"
    }
   ],
   "source": [
    "norm_conf_mx = confusion_matrix(y_test, y_test_pred,normalize='true')\n",
    "norm_conf_mx"
   ]
  },
  {
   "cell_type": "code",
   "execution_count": 8,
   "metadata": {},
   "outputs": [
    {
     "data": {
      "image/png": "[encoded data removed]",
      "text/plain": [
       "<Figure size 480x480 with 1 Axes>"
      ]
     },
     "metadata": {},
     "output_type": "display_data"
    }
   ],
   "source": [
    "plt.matshow(norm_conf_mx, cmap=plt.cm.gray)\n",
    "plt.show()"
   ]
  },
  {
   "cell_type": "markdown",
   "metadata": {},
   "source": [
    "* The column of class 2 is bright, which tells you that many samples get misclassified as 2s. \n",
    "* \n",
    "* sample 2 is confused with sample 0 \n",
    "* Sample 3 is all over the place, it gets confused with 0, 1, and mostly with  2.\n",
    "* never, anyclass is confused as sample 3\n",
    "\n",
    "**How can we reduce the false 2s?**"
   ]
  },
  {
   "cell_type": "code",
   "execution_count": 9,
   "metadata": {},
   "outputs": [
    {
     "data": {
      "text/html": [
       "<div>\n",
       "<style scoped>\n",
       "    .dataframe tbody tr th:only-of-type {\n",
       "        vertical-align: middle;\n",
       "    }\n",
       "\n",
       "    .dataframe tbody tr th {\n",
       "        vertical-align: top;\n",
       "    }\n",
       "\n",
       "    .dataframe thead th {\n",
       "        text-align: right;\n",
       "    }\n",
       "</style>\n",
       "<table border=\"1\" class=\"dataframe\">\n",
       "  <thead>\n",
       "    <tr style=\"text-align: right;\">\n",
       "      <th></th>\n",
       "      <th>well</th>\n",
       "      <th>y</th>\n",
       "      <th>p</th>\n",
       "    </tr>\n",
       "  </thead>\n",
       "  <tbody>\n",
       "    <tr>\n",
       "      <th>6</th>\n",
       "      <td>well_128</td>\n",
       "      <td>0</td>\n",
       "      <td>0</td>\n",
       "    </tr>\n",
       "    <tr>\n",
       "      <th>7</th>\n",
       "      <td>well_132</td>\n",
       "      <td>0</td>\n",
       "      <td>0</td>\n",
       "    </tr>\n",
       "    <tr>\n",
       "      <th>10</th>\n",
       "      <td>well_143</td>\n",
       "      <td>0</td>\n",
       "      <td>0</td>\n",
       "    </tr>\n",
       "    <tr>\n",
       "      <th>21</th>\n",
       "      <td>well_251</td>\n",
       "      <td>0</td>\n",
       "      <td>0</td>\n",
       "    </tr>\n",
       "    <tr>\n",
       "      <th>25</th>\n",
       "      <td>well_271</td>\n",
       "      <td>0</td>\n",
       "      <td>0</td>\n",
       "    </tr>\n",
       "    <tr>\n",
       "      <th>26</th>\n",
       "      <td>well_275</td>\n",
       "      <td>0</td>\n",
       "      <td>0</td>\n",
       "    </tr>\n",
       "    <tr>\n",
       "      <th>31</th>\n",
       "      <td>well_306</td>\n",
       "      <td>0</td>\n",
       "      <td>0</td>\n",
       "    </tr>\n",
       "    <tr>\n",
       "      <th>38</th>\n",
       "      <td>well_35</td>\n",
       "      <td>0</td>\n",
       "      <td>0</td>\n",
       "    </tr>\n",
       "    <tr>\n",
       "      <th>40</th>\n",
       "      <td>well_357</td>\n",
       "      <td>0</td>\n",
       "      <td>0</td>\n",
       "    </tr>\n",
       "    <tr>\n",
       "      <th>67</th>\n",
       "      <td>well_516</td>\n",
       "      <td>0</td>\n",
       "      <td>0</td>\n",
       "    </tr>\n",
       "    <tr>\n",
       "      <th>79</th>\n",
       "      <td>well_576</td>\n",
       "      <td>0</td>\n",
       "      <td>0</td>\n",
       "    </tr>\n",
       "    <tr>\n",
       "      <th>86</th>\n",
       "      <td>well_87</td>\n",
       "      <td>0</td>\n",
       "      <td>0</td>\n",
       "    </tr>\n",
       "  </tbody>\n",
       "</table>\n",
       "</div>"
      ],
      "text/plain": [
       "        well  y  p\n",
       "6   well_128  0  0\n",
       "7   well_132  0  0\n",
       "10  well_143  0  0\n",
       "21  well_251  0  0\n",
       "25  well_271  0  0\n",
       "26  well_275  0  0\n",
       "31  well_306  0  0\n",
       "38   well_35  0  0\n",
       "40  well_357  0  0\n",
       "67  well_516  0  0\n",
       "79  well_576  0  0\n",
       "86   well_87  0  0"
      ]
     },
     "execution_count": 9,
     "metadata": {},
     "output_type": "execute_result"
    }
   ],
   "source": [
    "(df_test\n",
    " .filter(['well','cluster'])\n",
    " .assign(y = lambda df: df['cluster'].map(class_map))\n",
    " .drop(columns={'cluster'})\n",
    " .assign(p = y_test_pred)\n",
    " .query(\"y == 0 and p == 0\")\n",
    ")\n"
   ]
  },
  {
   "cell_type": "code",
   "execution_count": 10,
   "metadata": {},
   "outputs": [
    {
     "data": {
      "text/html": [
       "<div>\n",
       "<style scoped>\n",
       "    .dataframe tbody tr th:only-of-type {\n",
       "        vertical-align: middle;\n",
       "    }\n",
       "\n",
       "    .dataframe tbody tr th {\n",
       "        vertical-align: top;\n",
       "    }\n",
       "\n",
       "    .dataframe thead th {\n",
       "        text-align: right;\n",
       "    }\n",
       "</style>\n",
       "<table border=\"1\" class=\"dataframe\">\n",
       "  <thead>\n",
       "    <tr style=\"text-align: right;\">\n",
       "      <th></th>\n",
       "      <th>well</th>\n",
       "      <th>y</th>\n",
       "      <th>p</th>\n",
       "    </tr>\n",
       "  </thead>\n",
       "  <tbody>\n",
       "    <tr>\n",
       "      <th>2</th>\n",
       "      <td>well_120</td>\n",
       "      <td>0</td>\n",
       "      <td>2</td>\n",
       "    </tr>\n",
       "    <tr>\n",
       "      <th>9</th>\n",
       "      <td>well_142</td>\n",
       "      <td>0</td>\n",
       "      <td>2</td>\n",
       "    </tr>\n",
       "    <tr>\n",
       "      <th>14</th>\n",
       "      <td>well_161</td>\n",
       "      <td>0</td>\n",
       "      <td>2</td>\n",
       "    </tr>\n",
       "    <tr>\n",
       "      <th>16</th>\n",
       "      <td>well_190</td>\n",
       "      <td>0</td>\n",
       "      <td>2</td>\n",
       "    </tr>\n",
       "    <tr>\n",
       "      <th>18</th>\n",
       "      <td>well_2</td>\n",
       "      <td>0</td>\n",
       "      <td>2</td>\n",
       "    </tr>\n",
       "    <tr>\n",
       "      <th>20</th>\n",
       "      <td>well_250</td>\n",
       "      <td>0</td>\n",
       "      <td>2</td>\n",
       "    </tr>\n",
       "    <tr>\n",
       "      <th>22</th>\n",
       "      <td>well_259</td>\n",
       "      <td>0</td>\n",
       "      <td>2</td>\n",
       "    </tr>\n",
       "    <tr>\n",
       "      <th>23</th>\n",
       "      <td>well_266</td>\n",
       "      <td>0</td>\n",
       "      <td>2</td>\n",
       "    </tr>\n",
       "    <tr>\n",
       "      <th>24</th>\n",
       "      <td>well_269</td>\n",
       "      <td>0</td>\n",
       "      <td>2</td>\n",
       "    </tr>\n",
       "    <tr>\n",
       "      <th>27</th>\n",
       "      <td>well_276</td>\n",
       "      <td>0</td>\n",
       "      <td>2</td>\n",
       "    </tr>\n",
       "    <tr>\n",
       "      <th>30</th>\n",
       "      <td>well_298</td>\n",
       "      <td>0</td>\n",
       "      <td>2</td>\n",
       "    </tr>\n",
       "    <tr>\n",
       "      <th>45</th>\n",
       "      <td>well_391</td>\n",
       "      <td>0</td>\n",
       "      <td>2</td>\n",
       "    </tr>\n",
       "    <tr>\n",
       "      <th>59</th>\n",
       "      <td>well_46</td>\n",
       "      <td>0</td>\n",
       "      <td>2</td>\n",
       "    </tr>\n",
       "    <tr>\n",
       "      <th>60</th>\n",
       "      <td>well_47</td>\n",
       "      <td>0</td>\n",
       "      <td>2</td>\n",
       "    </tr>\n",
       "    <tr>\n",
       "      <th>66</th>\n",
       "      <td>well_514</td>\n",
       "      <td>0</td>\n",
       "      <td>2</td>\n",
       "    </tr>\n",
       "    <tr>\n",
       "      <th>68</th>\n",
       "      <td>well_521</td>\n",
       "      <td>0</td>\n",
       "      <td>2</td>\n",
       "    </tr>\n",
       "    <tr>\n",
       "      <th>72</th>\n",
       "      <td>well_540</td>\n",
       "      <td>0</td>\n",
       "      <td>2</td>\n",
       "    </tr>\n",
       "    <tr>\n",
       "      <th>75</th>\n",
       "      <td>well_559</td>\n",
       "      <td>0</td>\n",
       "      <td>2</td>\n",
       "    </tr>\n",
       "    <tr>\n",
       "      <th>78</th>\n",
       "      <td>well_571</td>\n",
       "      <td>0</td>\n",
       "      <td>2</td>\n",
       "    </tr>\n",
       "  </tbody>\n",
       "</table>\n",
       "</div>"
      ],
      "text/plain": [
       "        well  y  p\n",
       "2   well_120  0  2\n",
       "9   well_142  0  2\n",
       "14  well_161  0  2\n",
       "16  well_190  0  2\n",
       "18    well_2  0  2\n",
       "20  well_250  0  2\n",
       "22  well_259  0  2\n",
       "23  well_266  0  2\n",
       "24  well_269  0  2\n",
       "27  well_276  0  2\n",
       "30  well_298  0  2\n",
       "45  well_391  0  2\n",
       "59   well_46  0  2\n",
       "60   well_47  0  2\n",
       "66  well_514  0  2\n",
       "68  well_521  0  2\n",
       "72  well_540  0  2\n",
       "75  well_559  0  2\n",
       "78  well_571  0  2"
      ]
     },
     "execution_count": 10,
     "metadata": {},
     "output_type": "execute_result"
    }
   ],
   "source": [
    "(df_test\n",
    " .filter(['well','cluster'])\n",
    " .assign(y = lambda df: df['cluster'].map(class_map))\n",
    " .drop(columns={'cluster'})\n",
    " .assign(p = y_test_pred)\n",
    " .query(\"y == 0 and p == 2\")\n",
    ")\n"
   ]
  },
  {
   "cell_type": "code",
   "execution_count": 11,
   "metadata": {},
   "outputs": [
    {
     "data": {
      "text/html": [
       "<div>\n",
       "<style scoped>\n",
       "    .dataframe tbody tr th:only-of-type {\n",
       "        vertical-align: middle;\n",
       "    }\n",
       "\n",
       "    .dataframe tbody tr th {\n",
       "        vertical-align: top;\n",
       "    }\n",
       "\n",
       "    .dataframe thead th {\n",
       "        text-align: right;\n",
       "    }\n",
       "</style>\n",
       "<table border=\"1\" class=\"dataframe\">\n",
       "  <thead>\n",
       "    <tr style=\"text-align: right;\">\n",
       "      <th></th>\n",
       "      <th>well</th>\n",
       "      <th>value</th>\n",
       "      <th>cluster</th>\n",
       "    </tr>\n",
       "    <tr>\n",
       "      <th>date</th>\n",
       "      <th></th>\n",
       "      <th></th>\n",
       "      <th></th>\n",
       "    </tr>\n",
       "  </thead>\n",
       "  <tbody>\n",
       "    <tr>\n",
       "      <th>1977-03-01</th>\n",
       "      <td>well_120</td>\n",
       "      <td>1.771429</td>\n",
       "      <td>constant</td>\n",
       "    </tr>\n",
       "    <tr>\n",
       "      <th>1977-04-01</th>\n",
       "      <td>well_120</td>\n",
       "      <td>1.843750</td>\n",
       "      <td>constant</td>\n",
       "    </tr>\n",
       "    <tr>\n",
       "      <th>1977-05-01</th>\n",
       "      <td>well_120</td>\n",
       "      <td>0.481928</td>\n",
       "      <td>constant</td>\n",
       "    </tr>\n",
       "    <tr>\n",
       "      <th>1977-06-01</th>\n",
       "      <td>well_120</td>\n",
       "      <td>0.000000</td>\n",
       "      <td>constant</td>\n",
       "    </tr>\n",
       "    <tr>\n",
       "      <th>1977-07-01</th>\n",
       "      <td>well_120</td>\n",
       "      <td>0.717949</td>\n",
       "      <td>constant</td>\n",
       "    </tr>\n",
       "  </tbody>\n",
       "</table>\n",
       "</div>"
      ],
      "text/plain": [
       "                well     value   cluster\n",
       "date                                    \n",
       "1977-03-01  well_120  1.771429  constant\n",
       "1977-04-01  well_120  1.843750  constant\n",
       "1977-05-01  well_120  0.481928  constant\n",
       "1977-06-01  well_120  0.000000  constant\n",
       "1977-07-01  well_120  0.717949  constant"
      ]
     },
     "execution_count": 11,
     "metadata": {},
     "output_type": "execute_result"
    }
   ],
   "source": [
    "well_id = 'well_120'\n",
    "df_well = (pd.read_csv(config['test_data_path'],parse_dates=['date'])\n",
    " .groupby('well')\n",
    " .get_group(well_id)\n",
    " .sort_values(['date'])\n",
    " #.filter(['date','value'])\n",
    " .set_index('date')\n",
    ")\n",
    "df_well.head()"
   ]
  },
  {
   "cell_type": "code",
   "execution_count": 12,
   "metadata": {},
   "outputs": [
    {
     "data": {
      "text/plain": [
       "'constant'"
      ]
     },
     "execution_count": 12,
     "metadata": {},
     "output_type": "execute_result"
    }
   ],
   "source": [
    "well_cluster = df_well['cluster'].iloc[0]\n",
    "well_cluster"
   ]
  },
  {
   "cell_type": "code",
   "execution_count": 13,
   "metadata": {},
   "outputs": [
    {
     "name": "stderr",
     "output_type": "stream",
     "text": [
      "/var/folders/1n/2j_57fhs4hd7p8xz6gg76p7w0000gn/T/ipykernel_20000/3203870136.py:1: FutureWarning: 'Y' is deprecated and will be removed in a future version, please use 'YE' instead.\n",
      "  df_well_Y = df_well[[\"value\"]].resample('Y').mean()\n"
     ]
    },
    {
     "data": {
      "text/html": [
       "<div>\n",
       "<style scoped>\n",
       "    .dataframe tbody tr th:only-of-type {\n",
       "        vertical-align: middle;\n",
       "    }\n",
       "\n",
       "    .dataframe tbody tr th {\n",
       "        vertical-align: top;\n",
       "    }\n",
       "\n",
       "    .dataframe thead th {\n",
       "        text-align: right;\n",
       "    }\n",
       "</style>\n",
       "<table border=\"1\" class=\"dataframe\">\n",
       "  <thead>\n",
       "    <tr style=\"text-align: right;\">\n",
       "      <th></th>\n",
       "      <th>value</th>\n",
       "    </tr>\n",
       "    <tr>\n",
       "      <th>date</th>\n",
       "      <th></th>\n",
       "    </tr>\n",
       "  </thead>\n",
       "  <tbody>\n",
       "    <tr>\n",
       "      <th>1977-12-31</th>\n",
       "      <td>0.814464</td>\n",
       "    </tr>\n",
       "    <tr>\n",
       "      <th>1978-12-31</th>\n",
       "      <td>0.848213</td>\n",
       "    </tr>\n",
       "    <tr>\n",
       "      <th>1979-12-31</th>\n",
       "      <td>1.002060</td>\n",
       "    </tr>\n",
       "    <tr>\n",
       "      <th>1980-12-31</th>\n",
       "      <td>2.366487</td>\n",
       "    </tr>\n",
       "    <tr>\n",
       "      <th>1981-12-31</th>\n",
       "      <td>1.911037</td>\n",
       "    </tr>\n",
       "  </tbody>\n",
       "</table>\n",
       "</div>"
      ],
      "text/plain": [
       "               value\n",
       "date                \n",
       "1977-12-31  0.814464\n",
       "1978-12-31  0.848213\n",
       "1979-12-31  1.002060\n",
       "1980-12-31  2.366487\n",
       "1981-12-31  1.911037"
      ]
     },
     "execution_count": 13,
     "metadata": {},
     "output_type": "execute_result"
    }
   ],
   "source": [
    "df_well_Y = df_well[[\"value\"]].resample('Y').mean()\n",
    "df_well_Y.head()"
   ]
  },
  {
   "cell_type": "code",
   "execution_count": 14,
   "metadata": {},
   "outputs": [
    {
     "data": {
      "image/png": "[encoded data removed]",
      "text/plain": [
       "<Figure size 600x300 with 1 Axes>"
      ]
     },
     "metadata": {},
     "output_type": "display_data"
    }
   ],
   "source": [
    "plt.figure(figsize=(6,3))\n",
    "plt.plot(df_well.index, df_well.value,color='blue')\n",
    "plt.title(f'well: {well_id}, cluster: {well_cluster}')\n",
    "plt.grid(True)\n",
    "plt.plot(df_well_Y.index, df_well_Y.value,color='red')\n",
    "plt.show()"
   ]
  },
  {
   "cell_type": "code",
   "execution_count": 15,
   "metadata": {},
   "outputs": [
    {
     "data": {
      "text/plain": [
       "(12, 1, 6, 2)"
      ]
     },
     "execution_count": 15,
     "metadata": {},
     "output_type": "execute_result"
    }
   ],
   "source": [
    "wells_00 = (df_test\n",
    " .filter(['well','cluster'])\n",
    " .assign(y = lambda df: df['cluster'].map(class_map))\n",
    " .drop(columns={'cluster'})\n",
    " .assign(p = y_test_pred)\n",
    " .query(\"y == 0 and p==0\")\n",
    " .well\n",
    " .to_list()\n",
    ")\n",
    "wells_01 = (df_test\n",
    " .filter(['well','cluster'])\n",
    " .assign(y = lambda df: df['cluster'].map(class_map))\n",
    " .drop(columns={'cluster'})\n",
    " .assign(p = y_test_pred)\n",
    " .query(\"y == 0 and p==1\")\n",
    " .well\n",
    " .to_list()\n",
    ")\n",
    "wells_10 = (df_test\n",
    " .filter(['well','cluster'])\n",
    " .assign(y = lambda df: df['cluster'].map(class_map))\n",
    " .drop(columns={'cluster'})\n",
    " .assign(p = y_test_pred)\n",
    " .query(\"y == 1 and p==0\")\n",
    " .well\n",
    " .to_list()\n",
    ")\n",
    "wells_11 = (df_test\n",
    " .filter(['well','cluster'])\n",
    " .assign(y = lambda df: df['cluster'].map(class_map))\n",
    " .drop(columns={'cluster'})\n",
    " .assign(p = y_test_pred)\n",
    " .query(\"y == 1 and p==1\")\n",
    " .well\n",
    " .to_list()\n",
    ")\n",
    "len(wells_00), len(wells_01), len(wells_10), len(wells_11)\n"
   ]
  },
  {
   "cell_type": "code",
   "execution_count": 16,
   "metadata": {},
   "outputs": [],
   "source": [
    "df_00 = (pd.read_csv(config['test_data_path'],parse_dates=['date'])\n",
    "            .sort_values(['date'])\n",
    "            #.query(\"cluster == 'constant'\")\n",
    "            .pivot(index='well', columns='date', values='value')\n",
    "            #.sample(25)\n",
    "            .loc[wells_00]\n",
    ")\n",
    "df_01 = (pd.read_csv(config['test_data_path'],parse_dates=['date'])\n",
    "            .sort_values(['date'])\n",
    "            #.query(\"cluster == 'constant'\")\n",
    "            .pivot(index='well', columns='date', values='value')\n",
    "            #.sample(25)\n",
    "            .loc[wells_01]\n",
    ")\n",
    "df_10 = (pd.read_csv(config['test_data_path'],parse_dates=['date'])\n",
    "            .sort_values(['date'])\n",
    "            #.query(\"cluster == 'constant'\")\n",
    "            .pivot(index='well', columns='date', values='value')\n",
    "            #.sample(25)\n",
    "            .loc[wells_10]\n",
    ")\n",
    "df_11 = (pd.read_csv(config['test_data_path'],parse_dates=['date'])\n",
    "            .sort_values(['date'])\n",
    "            #.query(\"cluster == 'constant'\")\n",
    "            .pivot(index='well', columns='date', values='value')\n",
    "            #.sample(25)\n",
    "            .loc[wells_11]\n",
    ")\n"
   ]
  },
  {
   "cell_type": "code",
   "execution_count": 20,
   "metadata": {},
   "outputs": [
    {
     "data": {
      "image/png": "[encoded data removed]",
      "text/plain": [
       "<Figure size 800x800 with 68 Axes>"
      ]
     },
     "metadata": {},
     "output_type": "display_data"
    }
   ],
   "source": [
    "def plot_timeseries(df,big_ax,nrows=4,ncols=4,title=''):\n",
    "    inner_grid = big_ax.get_subplotspec().subgridspec(nrows, ncols)\n",
    "    axes = inner_grid.subplots().flatten()\n",
    "    num_rows = df.shape[0]\n",
    "    for i,(index,row) in enumerate(df.iterrows()):\n",
    "        ax = axes[i]  \n",
    "        ax.plot(row)  \n",
    "        ax.plot(row.resample('YE').mean(),color = 'red')  \n",
    "        ax.axis('off')\n",
    "\n",
    "    for i in range(num_rows, nrows*ncols):\n",
    "        ax = axes[i]\n",
    "        ax.axis('off')\n",
    "    big_ax.tick_params(axis='both', which='both', bottom=False, top=False, left=False, right=False, labelbottom=False, labelleft=False)\n",
    "    big_ax.set_title(title)\n",
    "\n",
    "\n",
    "fig = plt.figure(figsize=(8, 8))\n",
    "big_ax = plt.subplot(221); plot_timeseries(df_00,big_ax,title = '(0,0)')\n",
    "big_ax = plt.subplot(222); plot_timeseries(df_01,big_ax,title = '(0,1)')  \n",
    "big_ax = plt.subplot(223); plot_timeseries(df_10,big_ax,title = '(1,0)')  \n",
    "big_ax = plt.subplot(224); plot_timeseries(df_11,big_ax,title = '(1,1)') \n",
    "plt.tight_layout()\n",
    "plt.show()"
   ]
  },
  {
   "cell_type": "code",
   "execution_count": null,
   "metadata": {},
   "outputs": [],
   "source": []
  }
 ],
 "metadata": {
  "kernelspec": {
   "display_name": "myenv",
   "language": "python",
   "name": "python3"
  },
  "language_info": {
   "codemirror_mode": {
    "name": "ipython",
    "version": 3
   },
   "file_extension": ".py",
   "mimetype": "text/x-python",
   "name": "python",
   "nbconvert_exporter": "python",
   "pygments_lexer": "ipython3",
   "version": "3.8.10"
  }
 },
 "nbformat": 4,
 "nbformat_minor": 2
}
